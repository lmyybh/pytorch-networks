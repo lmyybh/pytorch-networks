{
 "cells": [
  {
   "cell_type": "code",
   "execution_count": 1,
   "metadata": {
    "_cell_guid": "b1076dfc-b9ad-4769-8c92-a6c4dae69d19",
    "_uuid": "8f2839f25d086af736a60e9eeb907d3b93b6e0e5",
    "execution": {
     "iopub.execute_input": "2021-11-02T05:00:17.776521Z",
     "iopub.status.busy": "2021-11-02T05:00:17.775802Z",
     "iopub.status.idle": "2021-11-02T05:00:18.452872Z",
     "shell.execute_reply": "2021-11-02T05:00:18.451657Z",
     "shell.execute_reply.started": "2021-11-02T05:00:17.776421Z"
    }
   },
   "outputs": [],
   "source": [
    "import os\n",
    "os.environ['CUDA_DEVICE_ORDER'] = 'PCI_BUS_ID'\n",
    "os.environ['CUDA_VISIBLE_DEVICES'] = '2'\n",
    "import time\n",
    "import torch\n",
    "import torch.nn as nn\n",
    "import torchvision.transforms as transforms\n",
    "from torchvision.utils import make_grid\n",
    "from torch.utils.data import DataLoader\n",
    "import matplotlib.pyplot as plt\n",
    "from tqdm.notebook import tqdm\n",
    "from PIL import Image\n",
    "from dataset import FFHQDataset\n",
    "from model import *\n",
    "from loss import ProWGANDLoss\n",
    "from config import Config"
   ]
  },
  {
   "cell_type": "code",
   "execution_count": 2,
   "metadata": {},
   "outputs": [],
   "source": [
    "class Trainer:\n",
    "    def __init__(self, cfg, dataset):\n",
    "        self.cfg = cfg\n",
    "        self.dataset = dataset\n",
    "        print('Init G and D models')\n",
    "        self.G = Generator(z_dim=cfg.z_dim, in_channels=cfg.max_channels, max_size=cfg.max_size).to(cfg.device)\n",
    "        self.D = Discriminator(max_size=cfg.max_size, out_channels=cfg.max_channels).to(cfg.device)\n",
    "        \n",
    "        if cfg.preG_path is not None:\n",
    "            print('Load pretrained G model')\n",
    "            self.G = load_dict(self.G, torch.load(cfg.preG_path).state_dict(), device=cfg.device)\n",
    "        if cfg.preD_path is not None:\n",
    "            print('Load pretrained D model')\n",
    "            self.D = load_dict(self.D, torch.load(cfg.preD_path).state_dict(), device=cfg.device)\n",
    "        \n",
    "        self.optimizer_G = torch.optim.Adam(self.G.parameters(), lr=cfg.lr, betas=(0.0, 0.99))\n",
    "        self.optimizer_D = torch.optim.Adam(self.D.parameters(), lr=cfg.lr, betas=(0.0, 0.99))\n",
    "        self.lossfn_D = ProWGANDLoss().to(cfg.device)\n",
    "        \n",
    "        if cfg.fixed_z_path is None:\n",
    "            self.fixed_z = torch.normal(cfg.noise_mean, cfg.noise_std, size=(64, cfg.z_dim, 1, 1)).to(cfg.device)\n",
    "        else:\n",
    "            self.fixed_z = torch.load(cfg.fixed_z_path).to(cfg.device)\n",
    "        \n",
    "    def get_loader(self, step):\n",
    "        img_size = 2 ** (step + 2)\n",
    "        transforms_ = transforms.Compose([\n",
    "            transforms.ToTensor(),\n",
    "            transforms.Resize((img_size, img_size))\n",
    "        ])\n",
    "        img_dataset = self.dataset(data_dir=self.cfg.data_dir, transforms=transforms_, num=self.cfg.num_dataset)\n",
    "        return DataLoader(\n",
    "            img_dataset,\n",
    "            batch_size=3*1024//4**step, # n*[1024, 256, 64, 16, 4, 2] when imgsize from 4 to 128\n",
    "            shuffle=False,\n",
    "            num_workers=10\n",
    "        )\n",
    "        \n",
    "    def train(self):\n",
    "        try:\n",
    "            print('Start training')\n",
    "            for step in range(self.cfg.current_step, self.cfg.steps):\n",
    "                loader = self.get_loader(step)\n",
    "                start_epoch = self.cfg.current_epoch if self.cfg.current_step == step else 0\n",
    "                alpha = start_epoch*2/self.cfg.epoches if self.cfg.current_step == step else 1e-8\n",
    "                for epoch in range(start_epoch, self.cfg.epoches):\n",
    "                    begin_time = time.time()\n",
    "                    for i, img in enumerate(tqdm(loader, desc=f'epoch {epoch+1}/{self.cfg.epoches}:')):\n",
    "                        z = torch.normal(self.cfg.noise_mean, self.cfg.noise_std, size=(img.size(0), self.cfg.z_dim, 1, 1))\n",
    "                        img, z = img.to(self.cfg.device), z.to(self.cfg.device)\n",
    "\n",
    "                        # train D\n",
    "                        self.D.zero_grad()\n",
    "                        loss_D = self.lossfn_D(self.G, self.D, z, img, step, alpha)\n",
    "                        loss_D.backward()\n",
    "                        self.optimizer_D.step()\n",
    "\n",
    "                        # train G\n",
    "                        self.G.zero_grad()\n",
    "                        loss_G = -self.D(self.G(z, step=step, alpha=alpha), step=step, alpha=alpha).mean()\n",
    "                        loss_G.backward()\n",
    "                        self.optimizer_G.step()\n",
    "\n",
    "                        # smooth increase alpha\n",
    "                        # it reaches 1 after half of epoches\n",
    "                        alpha += 2 * img.size(0) / (self.cfg.epoches * self.cfg.num_dataset)\n",
    "                        alpha = min(alpha, 1)\n",
    "                    end_time = time.time()\n",
    "                    self.log(begin_time, end_time, step, epoch, alpha, loss_G, loss_D, log_path=self.cfg.log_path)\n",
    "                    self.test(step, epoch, alpha, imgs_dir=self.cfg.imgs_dir, imshow=(epoch+1)%10==0)\n",
    "        except Exception as e:\n",
    "            print('Exception: ', e)\n",
    "        finally:\n",
    "            # save models\n",
    "            if self.cfg.models_dir is not None:\n",
    "                print('Saving models')\n",
    "                torch.save(self.G, os.path.join(self.cfg.models_dir, f'G_step{step}_epoch{epoch}.pth'))\n",
    "                torch.save(self.D, os.path.join(self.cfg.models_dir, f'D_step{step}_epoch{epoch}.pth'))\n",
    "        \n",
    "    def test(self, step, epoch, alpha, imgs_dir=None, imshow=True):\n",
    "        with torch.no_grad():\n",
    "            fig = plt.figure(figsize=(10,10))\n",
    "            plt.axis(\"off\")\n",
    "            out_img = make_grid(self.G(self.fixed_z, step=step, alpha=alpha), padding=2, normalize=True).cpu().permute(1,2,0).numpy()\n",
    "            if imshow:\n",
    "                plt.imshow(out_img)\n",
    "                plt.show()\n",
    "            if imgs_dir is not None:\n",
    "                out_img = (out_img - np.min(out_img)) * 255 / (np.max(out_img) - np.min(out_img))\n",
    "                im = Image.fromarray(out_img.astype(np.uint8))\n",
    "                im.save(os.path.join(imgs_dir, f'{step}-{epoch}.png'))\n",
    "    \n",
    "    def log(self, begin_time, end_time, step, epoch, alpha, loss_G, loss_D, log_path=None):\n",
    "        out_str = '[total time: {:.5f}s] '.format(end_time-begin_time) + f'[Step: {step+1}/{self.cfg.steps}] [Epoch: {epoch+1}/{self.cfg.epoches}] [alpha: {format(alpha, \".2e\")}] [G loss: {loss_G.item()}] [D loss: {loss_D.item()}]'\n",
    "        print(out_str)\n",
    "        if log_path is not None:\n",
    "            with open(log_path, 'a') as f:\n",
    "                f.write(out_str+'\\n')"
   ]
  },
  {
   "cell_type": "code",
   "execution_count": 3,
   "metadata": {},
   "outputs": [],
   "source": [
    "cfg = Config(\n",
    "    device = 'cuda:0' if torch.cuda.is_available() else 'cpu',\n",
    "    lr = 1e-3,\n",
    "    max_size = 128,\n",
    "    epoches = 30,\n",
    "    current_step = 4,\n",
    "    current_epoch = 0,\n",
    "    noise_mean = 0,\n",
    "    noise_std = 1,\n",
    "    z_dim = 512,\n",
    "    max_channels = 512,\n",
    "    num_dataset = 30000,\n",
    "    preG_path = './data/trained_models/G32.pth',\n",
    "    preD_path = './data/trained_models/D32.pth',\n",
    "    fixed_z_path = './data/trained_models/fixed_z.pth',\n",
    "    data_dir = '/data1/cgl/dataset/face/seeprettyface_yellow_face_128/thumbnails128x128',\n",
    "    log_path = './data/logs/log64.txt',\n",
    "    imgs_dir = './data/imgs',\n",
    "    models_dir = './data/trained_models'\n",
    ")"
   ]
  },
  {
   "cell_type": "code",
   "execution_count": 4,
   "metadata": {
    "execution": {
     "iopub.execute_input": "2021-11-02T05:00:18.582183Z",
     "iopub.status.busy": "2021-11-02T05:00:18.581337Z",
     "iopub.status.idle": "2021-11-02T05:00:21.610382Z",
     "shell.execute_reply": "2021-11-02T05:00:21.609302Z",
     "shell.execute_reply.started": "2021-11-02T05:00:18.582121Z"
    }
   },
   "outputs": [
    {
     "name": "stdout",
     "output_type": "stream",
     "text": [
      "Init G and D models\n",
      "Load pretrained G model\n",
      "Load pretrained D model\n"
     ]
    }
   ],
   "source": [
    "trainer = Trainer(cfg, FFHQDataset)"
   ]
  },
  {
   "cell_type": "code",
   "execution_count": 5,
   "metadata": {
    "collapsed": true,
    "execution": {
     "iopub.execute_input": "2021-11-02T05:00:21.612457Z",
     "iopub.status.busy": "2021-11-02T05:00:21.612106Z",
     "iopub.status.idle": "2021-11-02T05:00:21.624164Z",
     "shell.execute_reply": "2021-11-02T05:00:21.623072Z",
     "shell.execute_reply.started": "2021-11-02T05:00:21.612413Z"
    }
   },
   "outputs": [
    {
     "name": "stdout",
     "output_type": "stream",
     "text": [
      "Start training\n"
     ]
    },
    {
     "data": {
      "application/vnd.jupyter.widget-view+json": {
       "model_id": "fa8a07e5db6f47ceaa96e5cd38569d77",
       "version_major": 2,
       "version_minor": 0
      },
      "text/plain": [
       "epoch 1/30::   0%|          | 0/2500 [00:00<?, ?it/s]"
      ]
     },
     "metadata": {},
     "output_type": "display_data"
    },
    {
     "name": "stdout",
     "output_type": "stream",
     "text": [
      "Saving models\n"
     ]
    },
    {
     "ename": "KeyboardInterrupt",
     "evalue": "",
     "output_type": "error",
     "traceback": [
      "\u001b[0;31m---------------------------------------------------------------------------\u001b[0m",
      "\u001b[0;31mKeyboardInterrupt\u001b[0m                         Traceback (most recent call last)",
      "\u001b[0;32m<ipython-input-5-3435b262f1ae>\u001b[0m in \u001b[0;36m<module>\u001b[0;34m\u001b[0m\n\u001b[0;32m----> 1\u001b[0;31m \u001b[0mtrainer\u001b[0m\u001b[0;34m.\u001b[0m\u001b[0mtrain\u001b[0m\u001b[0;34m(\u001b[0m\u001b[0;34m)\u001b[0m\u001b[0;34m\u001b[0m\u001b[0;34m\u001b[0m\u001b[0m\n\u001b[0m",
      "\u001b[0;32m<ipython-input-2-ce974c136ec6>\u001b[0m in \u001b[0;36mtrain\u001b[0;34m(self)\u001b[0m\n\u001b[1;32m     54\u001b[0m                         \u001b[0mloss_D\u001b[0m \u001b[0;34m=\u001b[0m \u001b[0mself\u001b[0m\u001b[0;34m.\u001b[0m\u001b[0mlossfn_D\u001b[0m\u001b[0;34m(\u001b[0m\u001b[0mself\u001b[0m\u001b[0;34m.\u001b[0m\u001b[0mG\u001b[0m\u001b[0;34m,\u001b[0m \u001b[0mself\u001b[0m\u001b[0;34m.\u001b[0m\u001b[0mD\u001b[0m\u001b[0;34m,\u001b[0m \u001b[0mz\u001b[0m\u001b[0;34m,\u001b[0m \u001b[0mimg\u001b[0m\u001b[0;34m,\u001b[0m \u001b[0mstep\u001b[0m\u001b[0;34m,\u001b[0m \u001b[0malpha\u001b[0m\u001b[0;34m)\u001b[0m\u001b[0;34m\u001b[0m\u001b[0;34m\u001b[0m\u001b[0m\n\u001b[1;32m     55\u001b[0m                         \u001b[0mloss_D\u001b[0m\u001b[0;34m.\u001b[0m\u001b[0mbackward\u001b[0m\u001b[0;34m(\u001b[0m\u001b[0;34m)\u001b[0m\u001b[0;34m\u001b[0m\u001b[0;34m\u001b[0m\u001b[0m\n\u001b[0;32m---> 56\u001b[0;31m                         \u001b[0mself\u001b[0m\u001b[0;34m.\u001b[0m\u001b[0moptimizer_D\u001b[0m\u001b[0;34m.\u001b[0m\u001b[0mstep\u001b[0m\u001b[0;34m(\u001b[0m\u001b[0;34m)\u001b[0m\u001b[0;34m\u001b[0m\u001b[0;34m\u001b[0m\u001b[0m\n\u001b[0m\u001b[1;32m     57\u001b[0m \u001b[0;34m\u001b[0m\u001b[0m\n\u001b[1;32m     58\u001b[0m                         \u001b[0;31m# train G\u001b[0m\u001b[0;34m\u001b[0m\u001b[0;34m\u001b[0m\u001b[0;34m\u001b[0m\u001b[0m\n",
      "\u001b[0;32m/usr/local/lib/python3.6/site-packages/torch/optim/optimizer.py\u001b[0m in \u001b[0;36mwrapper\u001b[0;34m(*args, **kwargs)\u001b[0m\n\u001b[1;32m     86\u001b[0m                 \u001b[0mprofile_name\u001b[0m \u001b[0;34m=\u001b[0m \u001b[0;34m\"Optimizer.step#{}.step\"\u001b[0m\u001b[0;34m.\u001b[0m\u001b[0mformat\u001b[0m\u001b[0;34m(\u001b[0m\u001b[0mobj\u001b[0m\u001b[0;34m.\u001b[0m\u001b[0m__class__\u001b[0m\u001b[0;34m.\u001b[0m\u001b[0m__name__\u001b[0m\u001b[0;34m)\u001b[0m\u001b[0;34m\u001b[0m\u001b[0;34m\u001b[0m\u001b[0m\n\u001b[1;32m     87\u001b[0m                 \u001b[0;32mwith\u001b[0m \u001b[0mtorch\u001b[0m\u001b[0;34m.\u001b[0m\u001b[0mautograd\u001b[0m\u001b[0;34m.\u001b[0m\u001b[0mprofiler\u001b[0m\u001b[0;34m.\u001b[0m\u001b[0mrecord_function\u001b[0m\u001b[0;34m(\u001b[0m\u001b[0mprofile_name\u001b[0m\u001b[0;34m)\u001b[0m\u001b[0;34m:\u001b[0m\u001b[0;34m\u001b[0m\u001b[0;34m\u001b[0m\u001b[0m\n\u001b[0;32m---> 88\u001b[0;31m                     \u001b[0;32mreturn\u001b[0m \u001b[0mfunc\u001b[0m\u001b[0;34m(\u001b[0m\u001b[0;34m*\u001b[0m\u001b[0margs\u001b[0m\u001b[0;34m,\u001b[0m \u001b[0;34m**\u001b[0m\u001b[0mkwargs\u001b[0m\u001b[0;34m)\u001b[0m\u001b[0;34m\u001b[0m\u001b[0;34m\u001b[0m\u001b[0m\n\u001b[0m\u001b[1;32m     89\u001b[0m             \u001b[0;32mreturn\u001b[0m \u001b[0mwrapper\u001b[0m\u001b[0;34m\u001b[0m\u001b[0;34m\u001b[0m\u001b[0m\n\u001b[1;32m     90\u001b[0m \u001b[0;34m\u001b[0m\u001b[0m\n",
      "\u001b[0;32m/usr/local/lib/python3.6/site-packages/torch/autograd/grad_mode.py\u001b[0m in \u001b[0;36mdecorate_context\u001b[0;34m(*args, **kwargs)\u001b[0m\n\u001b[1;32m     26\u001b[0m         \u001b[0;32mdef\u001b[0m \u001b[0mdecorate_context\u001b[0m\u001b[0;34m(\u001b[0m\u001b[0;34m*\u001b[0m\u001b[0margs\u001b[0m\u001b[0;34m,\u001b[0m \u001b[0;34m**\u001b[0m\u001b[0mkwargs\u001b[0m\u001b[0;34m)\u001b[0m\u001b[0;34m:\u001b[0m\u001b[0;34m\u001b[0m\u001b[0;34m\u001b[0m\u001b[0m\n\u001b[1;32m     27\u001b[0m             \u001b[0;32mwith\u001b[0m \u001b[0mself\u001b[0m\u001b[0;34m.\u001b[0m\u001b[0m__class__\u001b[0m\u001b[0;34m(\u001b[0m\u001b[0;34m)\u001b[0m\u001b[0;34m:\u001b[0m\u001b[0;34m\u001b[0m\u001b[0;34m\u001b[0m\u001b[0m\n\u001b[0;32m---> 28\u001b[0;31m                 \u001b[0;32mreturn\u001b[0m \u001b[0mfunc\u001b[0m\u001b[0;34m(\u001b[0m\u001b[0;34m*\u001b[0m\u001b[0margs\u001b[0m\u001b[0;34m,\u001b[0m \u001b[0;34m**\u001b[0m\u001b[0mkwargs\u001b[0m\u001b[0;34m)\u001b[0m\u001b[0;34m\u001b[0m\u001b[0;34m\u001b[0m\u001b[0m\n\u001b[0m\u001b[1;32m     29\u001b[0m         \u001b[0;32mreturn\u001b[0m \u001b[0mcast\u001b[0m\u001b[0;34m(\u001b[0m\u001b[0mF\u001b[0m\u001b[0;34m,\u001b[0m \u001b[0mdecorate_context\u001b[0m\u001b[0;34m)\u001b[0m\u001b[0;34m\u001b[0m\u001b[0;34m\u001b[0m\u001b[0m\n\u001b[1;32m     30\u001b[0m \u001b[0;34m\u001b[0m\u001b[0m\n",
      "\u001b[0;32m/usr/local/lib/python3.6/site-packages/torch/optim/adam.py\u001b[0m in \u001b[0;36mstep\u001b[0;34m(self, closure)\u001b[0m\n\u001b[1;32m    116\u001b[0m                    \u001b[0mlr\u001b[0m\u001b[0;34m=\u001b[0m\u001b[0mgroup\u001b[0m\u001b[0;34m[\u001b[0m\u001b[0;34m'lr'\u001b[0m\u001b[0;34m]\u001b[0m\u001b[0;34m,\u001b[0m\u001b[0;34m\u001b[0m\u001b[0;34m\u001b[0m\u001b[0m\n\u001b[1;32m    117\u001b[0m                    \u001b[0mweight_decay\u001b[0m\u001b[0;34m=\u001b[0m\u001b[0mgroup\u001b[0m\u001b[0;34m[\u001b[0m\u001b[0;34m'weight_decay'\u001b[0m\u001b[0;34m]\u001b[0m\u001b[0;34m,\u001b[0m\u001b[0;34m\u001b[0m\u001b[0;34m\u001b[0m\u001b[0m\n\u001b[0;32m--> 118\u001b[0;31m                    eps=group['eps'])\n\u001b[0m\u001b[1;32m    119\u001b[0m         \u001b[0;32mreturn\u001b[0m \u001b[0mloss\u001b[0m\u001b[0;34m\u001b[0m\u001b[0;34m\u001b[0m\u001b[0m\n",
      "\u001b[0;32m/usr/local/lib/python3.6/site-packages/torch/optim/_functional.py\u001b[0m in \u001b[0;36madam\u001b[0;34m(params, grads, exp_avgs, exp_avg_sqs, max_exp_avg_sqs, state_steps, amsgrad, beta1, beta2, lr, weight_decay, eps)\u001b[0m\n\u001b[1;32m     92\u001b[0m             \u001b[0mdenom\u001b[0m \u001b[0;34m=\u001b[0m \u001b[0;34m(\u001b[0m\u001b[0mmax_exp_avg_sqs\u001b[0m\u001b[0;34m[\u001b[0m\u001b[0mi\u001b[0m\u001b[0;34m]\u001b[0m\u001b[0;34m.\u001b[0m\u001b[0msqrt\u001b[0m\u001b[0;34m(\u001b[0m\u001b[0;34m)\u001b[0m \u001b[0;34m/\u001b[0m \u001b[0mmath\u001b[0m\u001b[0;34m.\u001b[0m\u001b[0msqrt\u001b[0m\u001b[0;34m(\u001b[0m\u001b[0mbias_correction2\u001b[0m\u001b[0;34m)\u001b[0m\u001b[0;34m)\u001b[0m\u001b[0;34m.\u001b[0m\u001b[0madd_\u001b[0m\u001b[0;34m(\u001b[0m\u001b[0meps\u001b[0m\u001b[0;34m)\u001b[0m\u001b[0;34m\u001b[0m\u001b[0;34m\u001b[0m\u001b[0m\n\u001b[1;32m     93\u001b[0m         \u001b[0;32melse\u001b[0m\u001b[0;34m:\u001b[0m\u001b[0;34m\u001b[0m\u001b[0;34m\u001b[0m\u001b[0m\n\u001b[0;32m---> 94\u001b[0;31m             \u001b[0mdenom\u001b[0m \u001b[0;34m=\u001b[0m \u001b[0;34m(\u001b[0m\u001b[0mexp_avg_sq\u001b[0m\u001b[0;34m.\u001b[0m\u001b[0msqrt\u001b[0m\u001b[0;34m(\u001b[0m\u001b[0;34m)\u001b[0m \u001b[0;34m/\u001b[0m \u001b[0mmath\u001b[0m\u001b[0;34m.\u001b[0m\u001b[0msqrt\u001b[0m\u001b[0;34m(\u001b[0m\u001b[0mbias_correction2\u001b[0m\u001b[0;34m)\u001b[0m\u001b[0;34m)\u001b[0m\u001b[0;34m.\u001b[0m\u001b[0madd_\u001b[0m\u001b[0;34m(\u001b[0m\u001b[0meps\u001b[0m\u001b[0;34m)\u001b[0m\u001b[0;34m\u001b[0m\u001b[0;34m\u001b[0m\u001b[0m\n\u001b[0m\u001b[1;32m     95\u001b[0m \u001b[0;34m\u001b[0m\u001b[0m\n\u001b[1;32m     96\u001b[0m         \u001b[0mstep_size\u001b[0m \u001b[0;34m=\u001b[0m \u001b[0mlr\u001b[0m \u001b[0;34m/\u001b[0m \u001b[0mbias_correction1\u001b[0m\u001b[0;34m\u001b[0m\u001b[0;34m\u001b[0m\u001b[0m\n",
      "\u001b[0;31mKeyboardInterrupt\u001b[0m: "
     ]
    }
   ],
   "source": [
    "trainer.train()"
   ]
  },
  {
   "cell_type": "code",
   "execution_count": null,
   "metadata": {},
   "outputs": [],
   "source": []
  }
 ],
 "metadata": {
  "kernelspec": {
   "display_name": "Python 3",
   "language": "python",
   "name": "python3"
  },
  "language_info": {
   "codemirror_mode": {
    "name": "ipython",
    "version": 3
   },
   "file_extension": ".py",
   "mimetype": "text/x-python",
   "name": "python",
   "nbconvert_exporter": "python",
   "pygments_lexer": "ipython3",
   "version": "3.6.8"
  }
 },
 "nbformat": 4,
 "nbformat_minor": 4
}
